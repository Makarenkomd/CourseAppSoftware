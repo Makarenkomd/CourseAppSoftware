{
 "cells": [
  {
   "cell_type": "code",
   "execution_count": 6,
   "metadata": {},
   "outputs": [],
   "source": [
    "import math\n",
    "fo = open(\"hockey.in\", \"r\")\n",
    "f = open(\"hockey.out\", \"w\")\n",
    "     \n",
    "H, W, w1, w2 = [float(i) for i in fo.read().split()]\n",
    "fo.close()       \n",
    "wm2 = w2 - w1\n",
    "l = math.sqrt(wm2 * wm2 + H*H)\n",
    "s1 = W * l\n",
    "str = wm2 / 2 * H\n",
    "storon = (H * w1 + str) * 2\n",
    "ans = storon + s1 + (w1 * W)\n",
    "print(ans, file = f)\n",
    "f.close()"
   ]
  }
 ],
 "metadata": {
  "kernelspec": {
   "display_name": "Python 3",
   "language": "python",
   "name": "python3"
  },
  "language_info": {
   "codemirror_mode": {
    "name": "ipython",
    "version": 3
   },
   "file_extension": ".py",
   "mimetype": "text/x-python",
   "name": "python",
   "nbconvert_exporter": "python",
   "pygments_lexer": "ipython3",
   "version": "3.6.4"
  }
 },
 "nbformat": 4,
 "nbformat_minor": 2
}
